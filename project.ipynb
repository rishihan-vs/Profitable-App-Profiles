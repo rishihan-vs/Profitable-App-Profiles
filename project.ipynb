{
 "cells": [
  {
   "cell_type": "code",
   "execution_count": null,
   "id": "07aaa5ba-fc53-4937-a15d-213f15c0040d",
   "metadata": {},
   "outputs": [],
   "source": [
    "from csv import reader\n",
    "\n",
    "play_store_file = open(\"googleplaystore.csv\", encoding=\"Latin1\")\n",
    "read_file = reader(play_store_file)\n",
    "play_store = list(read_file)\n",
    "play_store_header = play_store[0]\n",
    "play_store_data = play_store[1:]\n",
    "\n",
    "app_store_file = open(\"AppleStore.csv\", encoding=\"Latin1\")\n",
    "read_file = reader(app_store_file)\n",
    "app_store = list(read_file)\n",
    "app_store_header = app_store[0]\n",
    "app_store_data = app_store[1:]"
   ]
  },
  {
   "cell_type": "code",
   "execution_count": null,
   "id": "f89e9efd-084e-45d1-b075-697d0fd5012d",
   "metadata": {},
   "outputs": [],
   "source": [
    "def explore_data(dataset, start, end, rows_and_columns=False):\n",
    "    dataset_slice = dataset[start:end]\n",
    "    for row in dataset_slice:\n",
    "        print(row)\n",
    "        print(\"\\n\")\n",
    "\n",
    "    if rows_and_columns:\n",
    "        print(f\"Number of rows: {len(dataset)}\")\n",
    "        print(f\"Number of columns: {len(dataset[0])}\")"
   ]
  },
  {
   "cell_type": "code",
   "execution_count": null,
   "metadata": {},
   "outputs": [],
   "source": [
    "print(play_store_header)\n",
    "print(\"\\n\")\n",
    "explore_data(play_store_data, 0, 3, True)\n",
    "\n",
    "print(app_store_header)\n",
    "print(\"\\n\")\n",
    "explore_data(app_store_data, 0, 3, True)"
   ]
  },
  {
   "cell_type": "code",
   "execution_count": null,
   "metadata": {},
   "outputs": [],
   "source": [
    "print(play_store_data[10472])  # incorrect row\n",
    "print('\\n')\n",
    "print(play_store_header)  # header\n",
    "print('\\n')\n",
    "print(play_store_data[0])      # correct row"
   ]
  },
  {
   "cell_type": "code",
   "execution_count": null,
   "metadata": {},
   "outputs": [],
   "source": [
    "del play_store_data[10472]"
   ]
  },
  {
   "cell_type": "code",
   "execution_count": null,
   "metadata": {},
   "outputs": [],
   "source": [
    "for row in play_store_data:\n",
    "    name = row[0]\n",
    "    if name == \"Instagram\":\n",
    "        print(row)"
   ]
  },
  {
   "cell_type": "code",
   "execution_count": null,
   "metadata": {},
   "outputs": [],
   "source": [
    "# Count duplicate and unique apps\n",
    "duplicate_apps = []\n",
    "unique_apps = []\n",
    "\n",
    "for row in play_store_data:\n",
    "    name = row[0]\n",
    "    if name in unique_apps:\n",
    "        duplicate_apps.append(name)\n",
    "    else:\n",
    "        unique_apps.append(name)\n",
    "\n",
    "print(len(unique_apps))\n",
    "print(len(duplicate_apps))\n",
    "print(duplicate_apps[:15])"
   ]
  },
  {
   "cell_type": "code",
   "execution_count": null,
   "metadata": {},
   "outputs": [],
   "source": [
    "# Only keep entries with highest number of reviews - most recent and reliable ratings\n",
    "reviews_max = {}\n",
    "\n",
    "for row in play_store_data:\n",
    "    name = row[0]\n",
    "    num_reviews = float(row[3])\n",
    "\n",
    "    if name in reviews_max and reviews_max[name] < num_reviews:\n",
    "        reviews_max[name] = num_reviews\n",
    "    \n",
    "    elif name not in reviews_max:\n",
    "        reviews_max[name] = num_reviews\n",
    "\n",
    "print(len(reviews_max))"
   ]
  },
  {
   "cell_type": "code",
   "execution_count": null,
   "metadata": {},
   "outputs": [],
   "source": [
    "# Remove duplicate entries\n",
    "ps_data_clean = []\n",
    "already_added = []\n",
    "\n",
    "for row in play_store_data:\n",
    "    name = row[0]\n",
    "    num_reviews = float(row[3])\n",
    "\n",
    "    if reviews_max[name] == num_reviews and name not in already_added:\n",
    "        ps_data_clean.append(row)\n",
    "        already_added.append(name)\n",
    "\n",
    "explore_data(ps_data_clean, 0, 3, True)"
   ]
  },
  {
   "cell_type": "code",
   "execution_count": null,
   "metadata": {},
   "outputs": [],
   "source": [
    "# Remove non-English apps (only if name has > 3 non-ASCII characters)\n",
    "def is_English(string):\n",
    "    non_ascii = 0\n",
    "\n",
    "    for character in string:\n",
    "        if ord(character) > 127:\n",
    "            non_ascii += 1\n",
    "\n",
    "    if non_ascii > 3:\n",
    "        return False\n",
    "    \n",
    "    return True\n",
    "\n",
    "print(is_English('Docs To Go™ Free Office Suite'))\n",
    "print(is_English('Instachat \" src=\"https://s.w.org/images/core/emoji/11.2.0/svg/1f61c.svg\">\" src=\"https://s.w.org/images/core/emoji/11.2.0/svg/1f61c.svg\">\" src=\"https://s.w.org/images/core/emoji/11.2.0/svg/1f61c.svg\">'))"
   ]
  },
  {
   "cell_type": "code",
   "execution_count": null,
   "metadata": {},
   "outputs": [],
   "source": [
    "ps_eng = []\n",
    "as_eng = []\n",
    "\n",
    "for row in ps_data_clean:\n",
    "    name = row[0]\n",
    "    if is_English(name):\n",
    "        ps_eng.append(row)\n",
    "\n",
    "for row in app_store_data:\n",
    "    name = row[2]\n",
    "    if is_English(name):\n",
    "        as_eng.append(row)\n",
    "\n",
    "explore_data(ps_eng, 0, 3, True)\n",
    "print(\"\\n\")\n",
    "explore_data(as_eng, 0, 3, True)"
   ]
  },
  {
   "cell_type": "code",
   "execution_count": null,
   "metadata": {},
   "outputs": [],
   "source": [
    "# Only keep free apps\n",
    "ps_final = []\n",
    "as_final = []\n",
    "\n",
    "for row in ps_eng:\n",
    "    price = row[7]\n",
    "    if price == \"0\":\n",
    "        ps_final.append(row)\n",
    "\n",
    "for row in as_eng:\n",
    "    price = row[5]\n",
    "    if price == \"0\":\n",
    "        as_final.append(row)\n",
    "\n",
    "print(len(ps_final))\n",
    "print(len(as_final))"
   ]
  },
  {
   "cell_type": "code",
   "execution_count": null,
   "metadata": {},
   "outputs": [],
   "source": [
    "# Build frequency table\n",
    "def freq_table(dataset, index):\n",
    "    table = {}\n",
    "    total = 0\n",
    "\n",
    "    for row in dataset:\n",
    "        total += 1\n",
    "        value = row[index]\n",
    "        if value in table:\n",
    "            table[value] += 1\n",
    "        else:\n",
    "            table[value] = 1\n",
    "\n",
    "    table_percent = {}\n",
    "    for key in table:\n",
    "        percentage = (table[key] / total) * 100\n",
    "        table_percent[key] = percentage\n",
    "\n",
    "    return table_percent\n",
    "\n",
    "# Display frequency percentages in descending order\n",
    "def display_table(dataset, index):\n",
    "    table = freq_table(dataset, index)\n",
    "    table_display = []\n",
    "    for key in table:\n",
    "        entry_tuple = (table[key], key)     # Put value first so we can sort by it\n",
    "        table_display.append(entry_tuple)\n",
    "\n",
    "    table_sorted = sorted(table_display, reverse=True)\n",
    "    for entry in table_sorted:\n",
    "        print(f\"{entry[1]}: {entry[0]}%\")\n"
   ]
  },
  {
   "cell_type": "code",
   "execution_count": null,
   "metadata": {},
   "outputs": [],
   "source": [
    "display_table(as_final, -5)     # prime_genre column"
   ]
  },
  {
   "cell_type": "code",
   "execution_count": null,
   "metadata": {},
   "outputs": [],
   "source": [
    "display_table(ps_final, 1)      # Category column"
   ]
  },
  {
   "cell_type": "code",
   "execution_count": null,
   "metadata": {},
   "outputs": [],
   "source": [
    "display_table(ps_final, -4)     # Genres column"
   ]
  },
  {
   "cell_type": "code",
   "execution_count": null,
   "metadata": {},
   "outputs": [],
   "source": [
    "genres_ios = freq_table(as_final, -5)       # Build frequency table for genres\n",
    "\n",
    "# Calculate avg no. of user ratings for each genre\n",
    "for genre in genres_ios:\n",
    "    total = 0\n",
    "    len_genre = 0\n",
    "\n",
    "    for app in as_final:\n",
    "        app_genre = app[-5]\n",
    "        if app_genre == genre:\n",
    "            num_ratings = float(app[6])\n",
    "            total += num_ratings\n",
    "            len_genre += 1\n",
    "\n",
    "    avg_num_ratings = total / len_genre\n",
    "    print(f\"{genre}: {avg_num_ratings}\")\n"
   ]
  },
  {
   "cell_type": "code",
   "execution_count": null,
   "metadata": {},
   "outputs": [],
   "source": [
    "for app in as_final:\n",
    "    if app[-5] == \"Navigation\":\n",
    "        print(f\"{app[2]}: {app[6]}\")"
   ]
  },
  {
   "cell_type": "code",
   "execution_count": null,
   "metadata": {},
   "outputs": [],
   "source": [
    "for app in as_final:\n",
    "    if app[-5] == \"Reference\":\n",
    "        print(f\"{app[2]}: {app[6]}\")"
   ]
  },
  {
   "cell_type": "code",
   "execution_count": null,
   "metadata": {},
   "outputs": [],
   "source": [
    "display_table(ps_final, 5)"
   ]
  },
  {
   "cell_type": "code",
   "execution_count": null,
   "metadata": {},
   "outputs": [],
   "source": [
    "categories_android = freq_table(ps_final, 1)\n",
    "\n",
    "for category in categories_android:\n",
    "    total = 0\n",
    "    len_category = 0\n",
    "\n",
    "    for app in ps_final:\n",
    "        app_category = app[1]\n",
    "        if app_category == category:\n",
    "            num_installs = app[5]\n",
    "            num_installs = num_installs.replace(\",\", \"\")\n",
    "            num_installs = num_installs.replace(\"+\", \"\")\n",
    "            total += float(num_installs)\n",
    "            len_category += 1\n",
    "\n",
    "    avg_num_installs = total / len_category\n",
    "    print(f\"{category}: {avg_num_installs}\")"
   ]
  },
  {
   "cell_type": "code",
   "execution_count": null,
   "metadata": {},
   "outputs": [],
   "source": [
    "for app in ps_final:\n",
    "    if app[1] == 'COMMUNICATION' and (app[5] == '1,000,000,000+' or app[5] == '500,000,000+' or app[5] == '100,000,000+'):\n",
    "        print(f\"{app[0]}: {app[5]}\")"
   ]
  },
  {
   "cell_type": "code",
   "execution_count": null,
   "metadata": {},
   "outputs": [],
   "source": [
    "under_100_mil = []\n",
    "\n",
    "for app in ps_final:\n",
    "    num_installs = app[5]\n",
    "    num_installs = num_installs.replace(\",\", \"\")\n",
    "    num_installs = num_installs.replace(\"+\", \"\")\n",
    "    if float(num_installs) < 100000000:\n",
    "        under_100_mil.append(float(num_installs))\n",
    "\n",
    "sum(under_100_mil) / len(under_100_mil)"
   ]
  },
  {
   "cell_type": "code",
   "execution_count": null,
   "metadata": {},
   "outputs": [],
   "source": [
    "for app in ps_final:\n",
    "    if app[1] == \"BOOKS_AND_REFERENCE\":\n",
    "        print(f\"{app[0]}: {app[5]}\")"
   ]
  },
  {
   "cell_type": "code",
   "execution_count": 25,
   "metadata": {},
   "outputs": [
    {
     "name": "stdout",
     "output_type": "stream",
     "text": [
      "Google Play Books: 1,000,000,000+\n",
      "Bible: 100,000,000+\n",
      "Amazon Kindle: 100,000,000+\n",
      "Audiobooks from Audible: 100,000,000+\n"
     ]
    }
   ],
   "source": [
    "for app in ps_final:\n",
    "    if app[1] == \"BOOKS_AND_REFERENCE\" and (app[5] == '1,000,000,000+' or app[5] == '500,000,000+' or app[5] == '100,000,000+'):\n",
    "        print(f\"{app[0]}: {app[5]}\")"
   ]
  },
  {
   "cell_type": "code",
   "execution_count": 26,
   "metadata": {},
   "outputs": [
    {
     "name": "stdout",
     "output_type": "stream",
     "text": [
      "Wikipedia: 10,000,000+\n",
      "Cool Reader: 10,000,000+\n",
      "Book store: 1,000,000+\n",
      "FBReader: Favorite Book Reader: 10,000,000+\n",
      "Free Books - Spirit Fanfiction and Stories: 1,000,000+\n",
      "AlReader -any text book reader: 5,000,000+\n",
      "FamilySearch Tree: 1,000,000+\n",
      "Cloud of Books: 1,000,000+\n",
      "ReadEra â free ebook reader: 1,000,000+\n",
      "Ebook Reader: 5,000,000+\n",
      "Read books online: 5,000,000+\n",
      "eBoox: book reader fb2 epub zip: 1,000,000+\n",
      "All Maths Formulas: 1,000,000+\n",
      "Ancestry: 5,000,000+\n",
      "HTC Help: 10,000,000+\n",
      "Moon+ Reader: 10,000,000+\n",
      "English-Myanmar Dictionary: 1,000,000+\n",
      "Golden Dictionary (EN-AR): 1,000,000+\n",
      "All Language Translator Free: 1,000,000+\n",
      "Aldiko Book Reader: 10,000,000+\n",
      "Dictionary - WordWeb: 5,000,000+\n",
      "50000 Free eBooks & Free AudioBooks: 5,000,000+\n",
      "Al-Quran (Free): 10,000,000+\n",
      "Al Quran Indonesia: 10,000,000+\n",
      "Al'Quran Bahasa Indonesia: 10,000,000+\n",
      "Al Quran Al karim: 1,000,000+\n",
      "Al Quran : EAlim - Translations & MP3 Offline: 5,000,000+\n",
      "Koran Read &MP3 30 Juz Offline: 1,000,000+\n",
      "Hafizi Quran 15 lines per page: 1,000,000+\n",
      "Quran for Android: 10,000,000+\n",
      "Satellite AR: 1,000,000+\n",
      "Oxford A-Z of English Usage: 1,000,000+\n",
      "Dictionary.com: Find Definitions for English Words: 10,000,000+\n",
      "English Dictionary - Offline: 10,000,000+\n",
      "Bible KJV: 5,000,000+\n",
      "NOOK: Read eBooks & Magazines: 10,000,000+\n",
      "Brilliant Quotes: Life, Love, Family & Motivation: 1,000,000+\n",
      "Stats Royale for Clash Royale: 1,000,000+\n",
      "Dictionary: 10,000,000+\n",
      "wikiHow: how to do anything: 1,000,000+\n",
      "EGW Writings: 1,000,000+\n",
      "My Little Pony AR Guide: 1,000,000+\n",
      "Spanish English Translator: 10,000,000+\n",
      "Dictionary - Merriam-Webster: 10,000,000+\n",
      "JW Library: 10,000,000+\n",
      "Oxford Dictionary of English : Free: 10,000,000+\n",
      "English Hindi Dictionary: 10,000,000+\n",
      "English to Hindi Dictionary: 5,000,000+\n"
     ]
    }
   ],
   "source": [
    "for app in ps_final:\n",
    "    if app[1] == \"BOOKS_AND_REFERENCE\" and (app[5] == '1,000,000+' or app[5] == '5,000,000+' or app[5] == '10,000,000+' or app[5] == '50,000,000+'):\n",
    "        print(f\"{app[0]}: {app[5]}\")"
   ]
  }
 ],
 "metadata": {
  "kernelspec": {
   "display_name": "Python 3 (ipykernel)",
   "language": "python",
   "name": "python3"
  },
  "language_info": {
   "codemirror_mode": {
    "name": "ipython",
    "version": 3
   },
   "file_extension": ".py",
   "mimetype": "text/x-python",
   "name": "python",
   "nbconvert_exporter": "python",
   "pygments_lexer": "ipython3",
   "version": "3.10.4"
  }
 },
 "nbformat": 4,
 "nbformat_minor": 5
}
